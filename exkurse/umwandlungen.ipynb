{
 "cells": [
  {
   "cell_type": "markdown",
   "id": "9762257f-0b2e-430a-b41f-d756f524dd63",
   "metadata": {},
   "source": [
    "# Nachtrag zu diversen Umwandlungsfunktionen\n",
    "\n",
    "Da gestern die Frage aufgetaucht ist, hier noch einmal die Übersicht über die Umwandlungsfunktionen.\n",
    "\n",
    "Dieses Notebook gehört nicht zum Prüfungsstoff!"
   ]
  },
  {
   "cell_type": "markdown",
   "id": "c24de6d7-2eec-44a2-9e1f-0ebe5b68c0f9",
   "metadata": {},
   "source": [
    "## Normale Datentypumwandlungen"
   ]
  },
  {
   "cell_type": "markdown",
   "id": "d35293a9-c1b0-45a4-901f-bd15e2dac789",
   "metadata": {},
   "source": [
    "Von str nach int"
   ]
  },
  {
   "cell_type": "code",
   "execution_count": 2,
   "id": "3369d8f0-de13-4c1b-bfad-9cd7fe7adf52",
   "metadata": {},
   "outputs": [
    {
     "data": {
      "text/plain": [
       "123"
      ]
     },
     "execution_count": 2,
     "metadata": {},
     "output_type": "execute_result"
    }
   ],
   "source": [
    "int(\"123\")"
   ]
  },
  {
   "cell_type": "markdown",
   "id": "73eae5d4-6c4e-43d9-b8f4-b9182e6cc6db",
   "metadata": {},
   "source": [
    "Von int nach str"
   ]
  },
  {
   "cell_type": "code",
   "execution_count": 3,
   "id": "9e7781fe-0219-4205-b341-3ffa1aab628b",
   "metadata": {},
   "outputs": [
    {
     "data": {
      "text/plain": [
       "'123'"
      ]
     },
     "execution_count": 3,
     "metadata": {},
     "output_type": "execute_result"
    }
   ],
   "source": [
    "str(123)"
   ]
  },
  {
   "cell_type": "markdown",
   "id": "4edf6788-028f-478a-967c-b847e7beefe0",
   "metadata": {},
   "source": [
    "## Zeichen und Codepoints"
   ]
  },
  {
   "cell_type": "markdown",
   "id": "c8023439-52e6-49c5-9877-bb00c39e3934",
   "metadata": {},
   "source": [
    "Codepoint eines Zeichens ausgeben"
   ]
  },
  {
   "cell_type": "code",
   "execution_count": 5,
   "id": "bc88bffe-39f4-487c-a39c-baa11e9ffbf1",
   "metadata": {},
   "outputs": [
    {
     "data": {
      "text/plain": [
       "65"
      ]
     },
     "execution_count": 5,
     "metadata": {},
     "output_type": "execute_result"
    }
   ],
   "source": [
    "ord('A')"
   ]
  },
  {
   "cell_type": "markdown",
   "id": "da4b6a36-46ee-44b8-9c7e-0305b509acec",
   "metadata": {},
   "source": [
    "Zeichen für Codepoint"
   ]
  },
  {
   "cell_type": "code",
   "execution_count": 6,
   "id": "e9f0e27e-6b02-4118-bc56-c6c17825c9fe",
   "metadata": {},
   "outputs": [
    {
     "data": {
      "text/plain": [
       "'A'"
      ]
     },
     "execution_count": 6,
     "metadata": {},
     "output_type": "execute_result"
    }
   ],
   "source": [
    "chr(65)"
   ]
  },
  {
   "cell_type": "markdown",
   "id": "fef9a26e-cf95-4f16-8a38-32bf4b2b4bcf",
   "metadata": {},
   "source": [
    "## Zahlen und ihre Basis"
   ]
  },
  {
   "cell_type": "markdown",
   "id": "8e149195-51fe-4bf3-a278-bbb46cfa2118",
   "metadata": {},
   "source": [
    "### Binär und Dezimal\n",
    "\n",
    "Von Binär nach Dezimal"
   ]
  },
  {
   "cell_type": "code",
   "execution_count": 8,
   "id": "c199ffce-5717-4935-ad42-c3a21567d1af",
   "metadata": {},
   "outputs": [
    {
     "data": {
      "text/plain": [
       "65"
      ]
     },
     "execution_count": 8,
     "metadata": {},
     "output_type": "execute_result"
    }
   ],
   "source": [
    "int('01000001', 2)"
   ]
  },
  {
   "cell_type": "markdown",
   "id": "8dbba2a1-fe35-4df3-b84c-5a984215ebbc",
   "metadata": {},
   "source": [
    "Von Dezimal nach Binär\n",
    "\n",
    "Hier gibt es mehrere Möglichkeiten:"
   ]
  },
  {
   "cell_type": "code",
   "execution_count": 14,
   "id": "a9960d71-6e90-451e-9bad-2bcb27ed836b",
   "metadata": {},
   "outputs": [
    {
     "data": {
      "text/plain": [
       "'1000001'"
      ]
     },
     "execution_count": 14,
     "metadata": {},
     "output_type": "execute_result"
    }
   ],
   "source": [
    "format(65, 'b')"
   ]
  },
  {
   "cell_type": "markdown",
   "id": "aac9cb5d-2855-4b63-9cfe-333bfd7ae9d5",
   "metadata": {},
   "source": [
    "Ab Python 3.6 kann man das mit f-Strings machen (dazu kommen wir nächste Woche)"
   ]
  },
  {
   "cell_type": "code",
   "execution_count": 21,
   "id": "5978c4c0-91a7-4a24-8c4d-dbc0b270156c",
   "metadata": {},
   "outputs": [
    {
     "data": {
      "text/plain": [
       "'1000001'"
      ]
     },
     "execution_count": 21,
     "metadata": {},
     "output_type": "execute_result"
    }
   ],
   "source": [
    "f'{65:b}'"
   ]
  },
  {
   "cell_type": "markdown",
   "id": "3734273c-2666-43b2-96ba-561bf7d7cce8",
   "metadata": {},
   "source": [
    "### Oktal und Dezimal\n",
    "\n",
    "Von Oktal nach Dezimal"
   ]
  },
  {
   "cell_type": "code",
   "execution_count": 10,
   "id": "25a22a02-28d5-4138-9a7b-394ca2f75058",
   "metadata": {},
   "outputs": [
    {
     "data": {
      "text/plain": [
       "65"
      ]
     },
     "execution_count": 10,
     "metadata": {},
     "output_type": "execute_result"
    }
   ],
   "source": [
    "int('101', 8)"
   ]
  },
  {
   "cell_type": "markdown",
   "id": "b08747a9-30ad-4d0f-96f5-7d4bbc9a1109",
   "metadata": {},
   "source": [
    "Von Dezimal nach Oktal (wieder mit format() und f-string"
   ]
  },
  {
   "cell_type": "code",
   "execution_count": 22,
   "id": "e8bb6cee-6188-4aed-846c-38874c8bfc87",
   "metadata": {},
   "outputs": [
    {
     "data": {
      "text/plain": [
       "'101'"
      ]
     },
     "execution_count": 22,
     "metadata": {},
     "output_type": "execute_result"
    }
   ],
   "source": [
    "format(65, 'o')"
   ]
  },
  {
   "cell_type": "code",
   "execution_count": 23,
   "id": "f3b4eed5-c9b4-4f26-af91-ff8b4525663b",
   "metadata": {},
   "outputs": [
    {
     "data": {
      "text/plain": [
       "'101'"
      ]
     },
     "execution_count": 23,
     "metadata": {},
     "output_type": "execute_result"
    }
   ],
   "source": [
    "f'{65:o}'"
   ]
  },
  {
   "cell_type": "markdown",
   "id": "545941d8-ecaf-4c29-9f0a-471177b9cb1e",
   "metadata": {},
   "source": [
    "### Hexadezimal und Dezimal"
   ]
  },
  {
   "cell_type": "markdown",
   "id": "d173ecd4-0843-4516-8eb1-fd8749df5880",
   "metadata": {},
   "source": [
    "Von Hexadezimal nach Dezimal"
   ]
  },
  {
   "cell_type": "code",
   "execution_count": 12,
   "id": "bb6fd69d-0d69-4db9-9f3b-908f13a9a1ec",
   "metadata": {},
   "outputs": [
    {
     "data": {
      "text/plain": [
       "65"
      ]
     },
     "execution_count": 12,
     "metadata": {},
     "output_type": "execute_result"
    }
   ],
   "source": [
    "int('41', 16)"
   ]
  },
  {
   "cell_type": "markdown",
   "id": "b5d01e90-a3db-48d0-97a7-dc504a8ccc66",
   "metadata": {},
   "source": [
    "Besser sichtbar vielleicht mit diesem Beispiel:"
   ]
  },
  {
   "cell_type": "code",
   "execution_count": 25,
   "id": "4dfb6d2c-1e62-4fd6-a0b9-192b3834dfc3",
   "metadata": {},
   "outputs": [
    {
     "data": {
      "text/plain": [
       "76"
      ]
     },
     "execution_count": 25,
     "metadata": {},
     "output_type": "execute_result"
    }
   ],
   "source": [
    "int('4C', 16)"
   ]
  },
  {
   "cell_type": "markdown",
   "id": "4b286eb6-6cc3-4a03-a3ba-a0fdb9407d9b",
   "metadata": {},
   "source": [
    "Von Dezimal nach Hexadezimal (via format() oder f-strings)"
   ]
  },
  {
   "cell_type": "code",
   "execution_count": 27,
   "id": "ae667fe8-1e9c-41c9-9160-fd2aac2f9eb9",
   "metadata": {},
   "outputs": [
    {
     "data": {
      "text/plain": [
       "'41'"
      ]
     },
     "execution_count": 27,
     "metadata": {},
     "output_type": "execute_result"
    }
   ],
   "source": [
    "format(65, 'x')"
   ]
  },
  {
   "cell_type": "code",
   "execution_count": 29,
   "id": "092e8e9a-23ae-4ba1-b8fa-6c92000fa0a2",
   "metadata": {},
   "outputs": [
    {
     "data": {
      "text/plain": [
       "'41'"
      ]
     },
     "execution_count": 29,
     "metadata": {},
     "output_type": "execute_result"
    }
   ],
   "source": [
    "f'{65:x}'"
   ]
  }
 ],
 "metadata": {
  "kernelspec": {
   "display_name": "Python 3",
   "language": "python",
   "name": "python3"
  },
  "language_info": {
   "codemirror_mode": {
    "name": "ipython",
    "version": 3
   },
   "file_extension": ".py",
   "mimetype": "text/x-python",
   "name": "python",
   "nbconvert_exporter": "python",
   "pygments_lexer": "ipython3",
   "version": "3.9.7"
  }
 },
 "nbformat": 4,
 "nbformat_minor": 5
}
